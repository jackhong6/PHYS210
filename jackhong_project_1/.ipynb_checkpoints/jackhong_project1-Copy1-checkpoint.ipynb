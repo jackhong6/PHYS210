{
 "cells": [
  {
   "cell_type": "markdown",
   "metadata": {},
   "source": [
    "# PHYS 210: Project 1"
   ]
  },
  {
   "cell_type": "markdown",
   "metadata": {},
   "source": [
    "Jack Hong, 30935134 <br>\n",
    "October 25, 2016"
   ]
  },
  {
   "cell_type": "markdown",
   "metadata": {},
   "source": [
    "Projectile Motion Solver. Assumes horizontal terrain."
   ]
  },
  {
   "cell_type": "code",
   "execution_count": 150,
   "metadata": {
    "collapsed": true
   },
   "outputs": [],
   "source": [
    "%matplotlib notebook"
   ]
  },
  {
   "cell_type": "code",
   "execution_count": 151,
   "metadata": {
    "collapsed": false
   },
   "outputs": [],
   "source": [
    "import numpy as np\n",
    "import matplotlib.pyplot as plt\n",
    "import scipy.optimize as spopt\n",
    "from scipy.misc import derivative as deriv"
   ]
  },
  {
   "cell_type": "code",
   "execution_count": 152,
   "metadata": {
    "collapsed": true
   },
   "outputs": [],
   "source": [
    "m = 1       # mass of the projectile in kg\n",
    "c = 0.1     # coefficient of drag in kg/s\n",
    "g = 9.8     # gravity of Earth in m/s^2\n",
    "vT = m*g/c  # terminal velocity in m/s"
   ]
  },
  {
   "cell_type": "code",
   "execution_count": 153,
   "metadata": {
    "collapsed": true
   },
   "outputs": [],
   "source": [
    "plotfig = True                               # if True, plot D, H, t_total, and v_impact\n",
    "                                             # for v0 and theta defined below\n",
    "    \n",
    "theta = np.linspace(1e-3, np.pi/2-1e-3, 100) # angles to plot in radians    \n",
    "v0 = np.array([10])                          # initial speeds to plot in m/s"
   ]
  },
  {
   "cell_type": "code",
   "execution_count": 154,
   "metadata": {
    "collapsed": false
   },
   "outputs": [],
   "source": [
    "def x(t, theta, v0):\n",
    "    \"\"\" Return the x position of a projectile.\n",
    "    \n",
    "    t -- time in seconds\n",
    "    theta -- launch angle in radians\n",
    "    v0 -- total initial velocity in m/s\n",
    "    \"\"\"\n",
    "    return v0*vT/g * np.cos(theta) * (1-np.exp(-g*t/vT))\n",
    "\n",
    "def x_prime(t, theta, v0):\n",
    "    \"\"\"Return the derivative of x at t\n",
    "    \n",
    "    t -- time in seconds\n",
    "    theta -- launch angle in radians\n",
    "    v0 -- total initial velocity in m/s\n",
    "    \"\"\"\n",
    "    return deriv(x, t, args=(theta, v0), dx=1e-5)\n",
    "def y(t, theta, v0):\n",
    "    \"\"\" Return the y position of a projectile.\n",
    "    \n",
    "    t -- time in seconds\n",
    "    theta -- launch angle in radians\n",
    "    v0 -- total initial velocity in m/s\n",
    "    \"\"\"\n",
    "    return vT/g * (v0*np.sin(theta) + vT) * (1-np.exp(-g*t/vT)) - vT*t\n",
    "\n",
    "def y_prime(t, theta, v0):\n",
    "    \"\"\"Return the derivative of y at t\n",
    "    \n",
    "    t -- time in seconds\n",
    "    theta -- launch angle in radians\n",
    "    v0 -- total initial velocity in m/s\n",
    "    \"\"\"\n",
    "    return deriv(y, t, args=(theta, v0), dx=1e-5)"
   ]
  },
  {
   "cell_type": "code",
   "execution_count": 155,
   "metadata": {
    "collapsed": true
   },
   "outputs": [],
   "source": [
    "def D(theta, v0):\n",
    "    \"\"\"Return horizontal distance to impact in meters.\n",
    "    \n",
    "    theta -- launch angle in radians\n",
    "    v0 -- initial total velocity\n",
    "    \"\"\"\n",
    "    return x(t_total(theta, v0), theta, v0)\n",
    "    \n",
    "def H(theta, v0):\n",
    "    \"\"\"Return max height of projectile in meters.\n",
    "    \n",
    "    theta -- launch angle in radians\n",
    "    v0 -- initial total velocity\n",
    "    \"\"\"\n",
    "    return spopt.brentq(y_prime, 1e-6, 1e3, args=(theta, v0))\n",
    "    \n",
    "def t_total(theta, v0):\n",
    "    \"\"\"Return time of flight of projectile in seconds\n",
    "    \n",
    "    theta -- launch angle in radians\n",
    "    v0 -- initial total velocity\n",
    "    \"\"\"\n",
    "    return spopt.brentq(y, 1e-6, 1e3, args=(theta, v0))\n",
    "    \n",
    "def v_impact(theta, v0):\n",
    "    \"\"\"Return the total velocity at the impact point in m/s\n",
    "    \n",
    "    theta -- launch angle in radians\n",
    "    v0 -- initial total velocity\n",
    "    \"\"\"\n",
    "    t_impact = t_total(theta, v0)\n",
    "    y_vel = y_prime(t_impact, theta, v0)\n",
    "    x_vel = x_prime(t_impact, theta, v0)\n",
    "    return np.sqrt(x_vel**2 + y_vel**2)"
   ]
  },
  {
   "cell_type": "code",
   "execution_count": 156,
   "metadata": {
    "collapsed": false,
    "scrolled": false
   },
   "outputs": [
    {
     "ename": "TypeError",
     "evalue": "only length-1 arrays can be converted to Python scalars",
     "output_type": "error",
     "traceback": [
      "\u001b[0;31m---------------------------------------------------------------------------\u001b[0m",
      "\u001b[0;31mTypeError\u001b[0m                                 Traceback (most recent call last)",
      "\u001b[0;32m<ipython-input-156-e8c6b5ea215f>\u001b[0m in \u001b[0;36m<module>\u001b[0;34m()\u001b[0m\n\u001b[1;32m      1\u001b[0m \u001b[0;32mif\u001b[0m \u001b[0mplotfig\u001b[0m\u001b[0;34m:\u001b[0m\u001b[0;34m\u001b[0m\u001b[0m\n\u001b[1;32m      2\u001b[0m     \u001b[0ma\u001b[0m\u001b[0;34m,\u001b[0m \u001b[0mv\u001b[0m \u001b[0;34m=\u001b[0m \u001b[0mnp\u001b[0m\u001b[0;34m.\u001b[0m\u001b[0mmeshgrid\u001b[0m\u001b[0;34m(\u001b[0m\u001b[0mtheta\u001b[0m\u001b[0;34m,\u001b[0m \u001b[0mv0\u001b[0m\u001b[0;34m)\u001b[0m\u001b[0;34m\u001b[0m\u001b[0m\n\u001b[0;32m----> 3\u001b[0;31m     \u001b[0mD_values\u001b[0m \u001b[0;34m=\u001b[0m \u001b[0mD\u001b[0m\u001b[0;34m(\u001b[0m\u001b[0ma\u001b[0m\u001b[0;34m,\u001b[0m\u001b[0mv\u001b[0m\u001b[0;34m)\u001b[0m\u001b[0;34m\u001b[0m\u001b[0m\n\u001b[0m",
      "\u001b[0;32m<ipython-input-155-469733d53074>\u001b[0m in \u001b[0;36mD\u001b[0;34m(theta, v0)\u001b[0m\n\u001b[1;32m      5\u001b[0m     \u001b[0mv0\u001b[0m \u001b[0;34m-\u001b[0m\u001b[0;34m-\u001b[0m \u001b[0minitial\u001b[0m \u001b[0mtotal\u001b[0m \u001b[0mvelocity\u001b[0m\u001b[0;34m\u001b[0m\u001b[0m\n\u001b[1;32m      6\u001b[0m     \"\"\"\n\u001b[0;32m----> 7\u001b[0;31m     \u001b[0;32mreturn\u001b[0m \u001b[0mx\u001b[0m\u001b[0;34m(\u001b[0m\u001b[0mt_total\u001b[0m\u001b[0;34m(\u001b[0m\u001b[0mtheta\u001b[0m\u001b[0;34m,\u001b[0m \u001b[0mv0\u001b[0m\u001b[0;34m)\u001b[0m\u001b[0;34m,\u001b[0m \u001b[0mtheta\u001b[0m\u001b[0;34m,\u001b[0m \u001b[0mv0\u001b[0m\u001b[0;34m)\u001b[0m\u001b[0;34m\u001b[0m\u001b[0m\n\u001b[0m\u001b[1;32m      8\u001b[0m \u001b[0;34m\u001b[0m\u001b[0m\n\u001b[1;32m      9\u001b[0m \u001b[0;32mdef\u001b[0m \u001b[0mH\u001b[0m\u001b[0;34m(\u001b[0m\u001b[0mtheta\u001b[0m\u001b[0;34m,\u001b[0m \u001b[0mv0\u001b[0m\u001b[0;34m)\u001b[0m\u001b[0;34m:\u001b[0m\u001b[0;34m\u001b[0m\u001b[0m\n",
      "\u001b[0;32m<ipython-input-155-469733d53074>\u001b[0m in \u001b[0;36mt_total\u001b[0;34m(theta, v0)\u001b[0m\n\u001b[1;32m     21\u001b[0m     \u001b[0mv0\u001b[0m \u001b[0;34m-\u001b[0m\u001b[0;34m-\u001b[0m \u001b[0minitial\u001b[0m \u001b[0mtotal\u001b[0m \u001b[0mvelocity\u001b[0m\u001b[0;34m\u001b[0m\u001b[0m\n\u001b[1;32m     22\u001b[0m     \"\"\"\n\u001b[0;32m---> 23\u001b[0;31m     \u001b[0;32mreturn\u001b[0m \u001b[0mspopt\u001b[0m\u001b[0;34m.\u001b[0m\u001b[0mbrentq\u001b[0m\u001b[0;34m(\u001b[0m\u001b[0my\u001b[0m\u001b[0;34m,\u001b[0m \u001b[0;36m1e-6\u001b[0m\u001b[0;34m,\u001b[0m \u001b[0;36m1e3\u001b[0m\u001b[0;34m,\u001b[0m \u001b[0margs\u001b[0m\u001b[0;34m=\u001b[0m\u001b[0;34m(\u001b[0m\u001b[0mtheta\u001b[0m\u001b[0;34m,\u001b[0m \u001b[0mv0\u001b[0m\u001b[0;34m)\u001b[0m\u001b[0;34m)\u001b[0m\u001b[0;34m\u001b[0m\u001b[0m\n\u001b[0m\u001b[1;32m     24\u001b[0m \u001b[0;34m\u001b[0m\u001b[0m\n\u001b[1;32m     25\u001b[0m \u001b[0;32mdef\u001b[0m \u001b[0mv_impact\u001b[0m\u001b[0;34m(\u001b[0m\u001b[0mtheta\u001b[0m\u001b[0;34m,\u001b[0m \u001b[0mv0\u001b[0m\u001b[0;34m)\u001b[0m\u001b[0;34m:\u001b[0m\u001b[0;34m\u001b[0m\u001b[0m\n",
      "\u001b[0;32m//anaconda/lib/python3.5/site-packages/scipy/optimize/zeros.py\u001b[0m in \u001b[0;36mbrentq\u001b[0;34m(f, a, b, args, xtol, rtol, maxiter, full_output, disp)\u001b[0m\n\u001b[1;32m    436\u001b[0m     \u001b[0;32mif\u001b[0m \u001b[0mrtol\u001b[0m \u001b[0;34m<\u001b[0m \u001b[0m_rtol\u001b[0m\u001b[0;34m:\u001b[0m\u001b[0;34m\u001b[0m\u001b[0m\n\u001b[1;32m    437\u001b[0m         \u001b[0;32mraise\u001b[0m \u001b[0mValueError\u001b[0m\u001b[0;34m(\u001b[0m\u001b[0;34m\"rtol too small (%g < %g)\"\u001b[0m \u001b[0;34m%\u001b[0m \u001b[0;34m(\u001b[0m\u001b[0mrtol\u001b[0m\u001b[0;34m,\u001b[0m \u001b[0m_rtol\u001b[0m\u001b[0;34m)\u001b[0m\u001b[0;34m)\u001b[0m\u001b[0;34m\u001b[0m\u001b[0m\n\u001b[0;32m--> 438\u001b[0;31m     \u001b[0mr\u001b[0m \u001b[0;34m=\u001b[0m \u001b[0m_zeros\u001b[0m\u001b[0;34m.\u001b[0m\u001b[0m_brentq\u001b[0m\u001b[0;34m(\u001b[0m\u001b[0mf\u001b[0m\u001b[0;34m,\u001b[0m\u001b[0ma\u001b[0m\u001b[0;34m,\u001b[0m\u001b[0mb\u001b[0m\u001b[0;34m,\u001b[0m\u001b[0mxtol\u001b[0m\u001b[0;34m,\u001b[0m\u001b[0mrtol\u001b[0m\u001b[0;34m,\u001b[0m\u001b[0mmaxiter\u001b[0m\u001b[0;34m,\u001b[0m\u001b[0margs\u001b[0m\u001b[0;34m,\u001b[0m\u001b[0mfull_output\u001b[0m\u001b[0;34m,\u001b[0m\u001b[0mdisp\u001b[0m\u001b[0;34m)\u001b[0m\u001b[0;34m\u001b[0m\u001b[0m\n\u001b[0m\u001b[1;32m    439\u001b[0m     \u001b[0;32mreturn\u001b[0m \u001b[0mresults_c\u001b[0m\u001b[0;34m(\u001b[0m\u001b[0mfull_output\u001b[0m\u001b[0;34m,\u001b[0m \u001b[0mr\u001b[0m\u001b[0;34m)\u001b[0m\u001b[0;34m\u001b[0m\u001b[0m\n\u001b[1;32m    440\u001b[0m \u001b[0;34m\u001b[0m\u001b[0m\n",
      "\u001b[0;32m<ipython-input-154-f67351b4d8bf>\u001b[0m in \u001b[0;36my\u001b[0;34m(t, theta, v0)\u001b[0m\n\u001b[1;32m     23\u001b[0m     \u001b[0mv0\u001b[0m \u001b[0;34m-\u001b[0m\u001b[0;34m-\u001b[0m \u001b[0mtotal\u001b[0m \u001b[0minitial\u001b[0m \u001b[0mvelocity\u001b[0m \u001b[0;32min\u001b[0m \u001b[0mm\u001b[0m\u001b[0;34m/\u001b[0m\u001b[0ms\u001b[0m\u001b[0;34m\u001b[0m\u001b[0m\n\u001b[1;32m     24\u001b[0m     \"\"\"\n\u001b[0;32m---> 25\u001b[0;31m     \u001b[0;32mreturn\u001b[0m \u001b[0mvT\u001b[0m\u001b[0;34m/\u001b[0m\u001b[0mg\u001b[0m \u001b[0;34m*\u001b[0m \u001b[0;34m(\u001b[0m\u001b[0mv0\u001b[0m\u001b[0;34m*\u001b[0m\u001b[0mnp\u001b[0m\u001b[0;34m.\u001b[0m\u001b[0msin\u001b[0m\u001b[0;34m(\u001b[0m\u001b[0mtheta\u001b[0m\u001b[0;34m)\u001b[0m \u001b[0;34m+\u001b[0m \u001b[0mvT\u001b[0m\u001b[0;34m)\u001b[0m \u001b[0;34m*\u001b[0m \u001b[0;34m(\u001b[0m\u001b[0;36m1\u001b[0m\u001b[0;34m-\u001b[0m\u001b[0mnp\u001b[0m\u001b[0;34m.\u001b[0m\u001b[0mexp\u001b[0m\u001b[0;34m(\u001b[0m\u001b[0;34m-\u001b[0m\u001b[0mg\u001b[0m\u001b[0;34m*\u001b[0m\u001b[0mt\u001b[0m\u001b[0;34m/\u001b[0m\u001b[0mvT\u001b[0m\u001b[0;34m)\u001b[0m\u001b[0;34m)\u001b[0m \u001b[0;34m-\u001b[0m \u001b[0mvT\u001b[0m\u001b[0;34m*\u001b[0m\u001b[0mt\u001b[0m\u001b[0;34m\u001b[0m\u001b[0m\n\u001b[0m\u001b[1;32m     26\u001b[0m \u001b[0;34m\u001b[0m\u001b[0m\n\u001b[1;32m     27\u001b[0m \u001b[0;32mdef\u001b[0m \u001b[0my_prime\u001b[0m\u001b[0;34m(\u001b[0m\u001b[0mt\u001b[0m\u001b[0;34m,\u001b[0m \u001b[0mtheta\u001b[0m\u001b[0;34m,\u001b[0m \u001b[0mv0\u001b[0m\u001b[0;34m)\u001b[0m\u001b[0;34m:\u001b[0m\u001b[0;34m\u001b[0m\u001b[0m\n",
      "\u001b[0;31mTypeError\u001b[0m: only length-1 arrays can be converted to Python scalars"
     ]
    }
   ],
   "source": [
    "if plotfig:\n",
    "    a, v = np.meshgrid(theta, v0)\n",
    "    D_values = D(a,v)"
   ]
  },
  {
   "cell_type": "code",
   "execution_count": null,
   "metadata": {
    "collapsed": false
   },
   "outputs": [],
   "source": [
    "if plotfig:\n",
    "    for v in v0:\n",
    "        D_vals = []\n",
    "        H_vals = []\n",
    "        t_vals = []\n",
    "        v_vals = []\n",
    "        for angle in theta:\n",
    "            D_vals.append(D(angle, v))\n",
    "            H_vals.append(H(angle, v))\n",
    "            t_vals.append(t_total(angle, v))\n",
    "            v_vals.append(v_impact(angle, v))\n",
    "            \n",
    "        plt.figure(1)\n",
    "        plt.plot(theta, D_vals, label='v0 = {:g}'.format(v))\n",
    "        plt.figure(2)\n",
    "        plt.plot(theta, H_vals, label='v0 = {:g}'.format(v))\n",
    "        plt.figure(3)\n",
    "        plt.plot(theta, t_vals, label='v0 = {:g}'.format(v))\n",
    "        plt.figure(4)\n",
    "        plt.plot(theta, v_vals, label='v0 = {:g}'.format(v))    \n",
    "        \n",
    "    # Label Plots ----------------------------\n",
    "    plt.figure(1)\n",
    "    plt.title('Horizontal distance to impact vs launch angle')\n",
    "    plt.xlabel('Launch angle (radians)')\n",
    "    plt.ylabel('Horizontal distance to impact (m)')\n",
    "    plt.legend()\n",
    "    \n",
    "    plt.figure(2)\n",
    "    plt.title('Maximum height of projectile vs launch angle')\n",
    "    plt.xlabel('Launch angle (radians)')\n",
    "    plt.ylabel('Maximum height (m)')\n",
    "    plt.legend()\n",
    "    \n",
    "    plt.figure(3)\n",
    "    plt.title('Time of flight vs launch angle')\n",
    "    plt.xlabel('Launch angle (radians)')\n",
    "    plt.ylabel('Time of flight (s)')\n",
    "    plt.legend()\n",
    "    \n",
    "    plt.figure(4)\n",
    "    plt.title('Total velocity at impact vs launch angle')\n",
    "    plt.xlabel('Launch angle (radians)')\n",
    "    plt.ylabel('Total velocity at impact (m/s)')\n",
    "    plt.legend()"
   ]
  },
  {
   "cell_type": "code",
   "execution_count": null,
   "metadata": {
    "collapsed": true
   },
   "outputs": [],
   "source": []
  }
 ],
 "metadata": {
  "kernelspec": {
   "display_name": "Python 3",
   "language": "python",
   "name": "python3"
  },
  "language_info": {
   "codemirror_mode": {
    "name": "ipython",
    "version": 3
   },
   "file_extension": ".py",
   "mimetype": "text/x-python",
   "name": "python",
   "nbconvert_exporter": "python",
   "pygments_lexer": "ipython3",
   "version": "3.5.1"
  }
 },
 "nbformat": 4,
 "nbformat_minor": 0
}
