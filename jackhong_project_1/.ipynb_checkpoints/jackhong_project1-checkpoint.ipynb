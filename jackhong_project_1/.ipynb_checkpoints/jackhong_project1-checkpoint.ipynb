{
 "cells": [
  {
   "cell_type": "markdown",
   "metadata": {},
   "source": [
    "# PHYS 210: Project 1"
   ]
  },
  {
   "cell_type": "markdown",
   "metadata": {},
   "source": [
    "Jack Hong, 30935134\n",
    "October 25, 2016"
   ]
  },
  {
   "cell_type": "markdown",
   "metadata": {},
   "source": [
    "Projectile Motion Solver. Assumes horizontal terrain."
   ]
  },
  {
   "cell_type": "code",
   "execution_count": 10,
   "metadata": {
    "collapsed": true
   },
   "outputs": [],
   "source": [
    "import numpy as np\n",
    "import matplotlib.pyplot as plt\n",
    "import scipy.optimize as spopt\n",
    "from scipy.misc import derivative as deriv"
   ]
  },
  {
   "cell_type": "code",
   "execution_count": 4,
   "metadata": {
    "collapsed": true
   },
   "outputs": [],
   "source": [
    "m = 1       # mass of the projectile in kg\n",
    "c = 0.1     # coefficient of drag in kg/s\n",
    "g = 9.8     # gravity of Earth in m/s^2\n",
    "vT = m*g/c  # terminal velocity in m/s"
   ]
  },
  {
   "cell_type": "code",
   "execution_count": 6,
   "metadata": {
    "collapsed": true
   },
   "outputs": [],
   "source": [
    "v0 = np.array([1, 10, 80])             # initial speeds to plot in m/s\n",
    "theta = np.linspace(0, np.pi/2, 1000)  # angles to plot in radians\n",
    "plotfig = True  # if True, plot D, H, t_total, and v_impact\n",
    "                # for v0 and theta defined above"
   ]
  },
  {
   "cell_type": "code",
   "execution_count": 11,
   "metadata": {
    "collapsed": true
   },
   "outputs": [],
   "source": [
    "def x(t, v0, theta):\n",
    "    \"\"\" Return the x position of a projectile.\n",
    "    \n",
    "    t -- time in seconds\n",
    "    v0 -- total initial velocity in m/s\n",
    "    theta -- launch angle in radians\n",
    "    \"\"\"\n",
    "    return v0*vT/g * np.cos(theta) * (1-np.exp(-g*t/vT))\n",
    "    \n",
    "def y(t, v0, theta):\n",
    "    \"\"\" Return the y position of a projectile.\n",
    "    \n",
    "    t -- time in seconds\n",
    "    v0 -- total initial velocity in m/s\n",
    "    theta -- launch angle in radians\n",
    "    \"\"\"\n",
    "    return vT/g * (v0*np.sin(theta) + vT) * (1-np.exp(-g*t/vT)) - vT*t"
   ]
  },
  {
   "cell_type": "code",
   "execution_count": 16,
   "metadata": {
    "collapsed": false
   },
   "outputs": [
    {
     "ename": "TypeError",
     "evalue": "return arrays must be of ArrayType",
     "output_type": "error",
     "traceback": [
      "\u001b[0;31m---------------------------------------------------------------------------\u001b[0m",
      "\u001b[0;31mTypeError\u001b[0m                                 Traceback (most recent call last)",
      "\u001b[0;32m<ipython-input-16-d3b4c7f8c498>\u001b[0m in \u001b[0;36m<module>\u001b[0;34m()\u001b[0m\n\u001b[1;32m     20\u001b[0m     \u001b[0;32mreturn\u001b[0m \u001b[0;34m(\u001b[0m\u001b[0ma\u001b[0m\u001b[0;34m,\u001b[0m\u001b[0mb\u001b[0m\u001b[0;34m)\u001b[0m\u001b[0;34m\u001b[0m\u001b[0m\n\u001b[1;32m     21\u001b[0m \u001b[0;34m\u001b[0m\u001b[0m\n\u001b[0;32m---> 22\u001b[0;31m \u001b[0mget_root_interval\u001b[0m\u001b[0;34m(\u001b[0m\u001b[0mnp\u001b[0m\u001b[0;34m.\u001b[0m\u001b[0msin\u001b[0m\u001b[0;34m,\u001b[0m \u001b[0;36m1\u001b[0m\u001b[0;34m,\u001b[0m \u001b[0;36m2\u001b[0m\u001b[0;34m*\u001b[0m\u001b[0mnp\u001b[0m\u001b[0;34m.\u001b[0m\u001b[0mpi\u001b[0m\u001b[0;34m)\u001b[0m\u001b[0;34m\u001b[0m\u001b[0m\n\u001b[0m",
      "\u001b[0;32m<ipython-input-16-d3b4c7f8c498>\u001b[0m in \u001b[0;36mget_root_interval\u001b[0;34m(f, xmin, xmax, *args)\u001b[0m\n\u001b[1;32m      9\u001b[0m     \u001b[0mx\u001b[0m \u001b[0;34m=\u001b[0m \u001b[0mnp\u001b[0m\u001b[0;34m.\u001b[0m\u001b[0mlinspace\u001b[0m\u001b[0;34m(\u001b[0m\u001b[0mxmin\u001b[0m\u001b[0;34m,\u001b[0m \u001b[0mxmax\u001b[0m\u001b[0;34m,\u001b[0m \u001b[0;36m100\u001b[0m\u001b[0;34m)\u001b[0m         \u001b[0;31m# x points where f is sampled\u001b[0m\u001b[0;34m\u001b[0m\u001b[0m\n\u001b[1;32m     10\u001b[0m \u001b[0;34m\u001b[0m\u001b[0m\n\u001b[0;32m---> 11\u001b[0;31m     \u001b[0mfevals\u001b[0m \u001b[0;34m=\u001b[0m \u001b[0mf\u001b[0m\u001b[0;34m(\u001b[0m\u001b[0mx\u001b[0m\u001b[0;34m,\u001b[0m \u001b[0margs\u001b[0m\u001b[0;34m)\u001b[0m\u001b[0;34m\u001b[0m\u001b[0m\n\u001b[0m\u001b[1;32m     12\u001b[0m \u001b[0;34m\u001b[0m\u001b[0m\n\u001b[1;32m     13\u001b[0m     \u001b[0mdiffs\u001b[0m \u001b[0;34m=\u001b[0m \u001b[0mnp\u001b[0m\u001b[0;34m.\u001b[0m\u001b[0mdiff\u001b[0m\u001b[0;34m(\u001b[0m\u001b[0mnp\u001b[0m\u001b[0;34m.\u001b[0m\u001b[0msign\u001b[0m\u001b[0;34m(\u001b[0m\u001b[0mfevals\u001b[0m\u001b[0;34m)\u001b[0m\u001b[0;34m)\u001b[0m         \u001b[0;31m# differences between signs of\u001b[0m\u001b[0;34m\u001b[0m\u001b[0m\n",
      "\u001b[0;31mTypeError\u001b[0m: return arrays must be of ArrayType"
     ]
    }
   ],
   "source": [
    "def get_root_interval(f, xmin, xmax, *args):\n",
    "    \"\"\"Return a small interval where f changes signs \n",
    "    \n",
    "    f -- function that must accept an array as the first positional arg\n",
    "    xmin -- min x to look for root\n",
    "    xmax -- max x to look for root\n",
    "    args -- any additional arguments for f\n",
    "    \"\"\"\n",
    "    x = np.linspace(xmin, xmax, 100)         # x points where f is sampled\n",
    "    \n",
    "    fevals = np.feval(x, args)\n",
    "    \n",
    "    diffs = np.diff(np.sign(fevals))         # differences between signs of\n",
    "                                             #     adjacent fevals\n",
    "        \n",
    "    sign_change_ind = np.where(diffs!=0)[0]  # first index where f \n",
    "                                             # changes sign\n",
    "    a = x[sign_change_ind]\n",
    "    b = x[sign_change_ind + 1]\n",
    "    return (a,b)\n",
    "\n",
    "get_root_interval(np.sin, 1, 2*np.pi)"
   ]
  },
  {
   "cell_type": "code",
   "execution_count": null,
   "metadata": {
    "collapsed": true
   },
   "outputs": [],
   "source": [
    "def D(theta, v0):\n",
    "    # Return horizontal distance to impact in meters\n",
    "    # as a function of launch angle and initial speed.\n",
    "    return x(t_total(theta))\n",
    "    \n",
    "def H(theta):\n",
    "    # Return max height of projectile in meters\n",
    "    # as a function of launch angle and initial speed.\n",
    "    \n",
    "def t_total(theta):\n",
    "    # Return time of flight of projectile in seconds\n",
    "    #     as a function of launch angle and initial speed.\n",
    "    root_interval = get_root_interval(y, 1e-3, 1e3)\n",
    "    return spopt.brentq(y,root_interval[0], root_interval[1])\n",
    "    \n",
    "def v_impact(theta):\n",
    "    # Return the velocity as a tuple (x,y) at impact point in m/s\n",
    "    # as a function of launch angle and initial speed. "
   ]
  },
  {
   "cell_type": "code",
   "execution_count": null,
   "metadata": {
    "collapsed": true
   },
   "outputs": [],
   "source": [
    "if plotfig:\n",
    "    for v in v0:\n",
    "        plt.figure(1)\n",
    "        plt.plot(theta, D(theta, v0))\n",
    "\n",
    "        plt.figure(2)\n",
    "        plt.plot(theta, H(theta, v0))\n",
    "        \n",
    "        plt.figure(3)\n",
    "        plt.plot(theta, t_total(theta, v0))\n",
    "        \n",
    "        plt.figure(4)\n",
    "        plt.plot(theta, v_impact(theta, v0))"
   ]
  }
 ],
 "metadata": {
  "kernelspec": {
   "display_name": "Python 3",
   "language": "python",
   "name": "python3"
  },
  "language_info": {
   "codemirror_mode": {
    "name": "ipython",
    "version": 3
   },
   "file_extension": ".py",
   "mimetype": "text/x-python",
   "name": "python",
   "nbconvert_exporter": "python",
   "pygments_lexer": "ipython3",
   "version": "3.5.1"
  }
 },
 "nbformat": 4,
 "nbformat_minor": 0
}
